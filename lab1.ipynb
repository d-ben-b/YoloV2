{
 "cells": [
  {
   "cell_type": "markdown",
   "id": "15c1c8a1",
   "metadata": {},
   "source": [
    "### Cifar10 dataset loader\n"
   ]
  },
  {
   "cell_type": "code",
   "execution_count": 100,
   "id": "fbe38519",
   "metadata": {},
   "outputs": [
    {
     "name": "stdout",
     "output_type": "stream",
     "text": [
      "Files already downloaded and verified\n",
      "Files already downloaded and verified\n",
      "cifar10: 45000, 5000, 10000, torch.Size([3, 32, 32])\n"
     ]
    }
   ],
   "source": [
    "import torch\n",
    "from torch.utils.data import DataLoader\n",
    "from torchvision import datasets, transforms\n",
    "\n",
    "\n",
    "def get_loaders(\n",
    "    source, batch_size, transform, eval_transform=None, root=\"data\", split_ratio=0.1\n",
    "):\n",
    "    if eval_transform is None:\n",
    "        eval_transform = transform\n",
    "\n",
    "    trainset = source(\n",
    "        root=root,\n",
    "        train=True,\n",
    "        download=True,\n",
    "        transform=transform,\n",
    "    )\n",
    "    testset = source(\n",
    "        root=root,\n",
    "        train=False,\n",
    "        download=True,\n",
    "        transform=eval_transform,\n",
    "    )\n",
    "\n",
    "    trainset, valset = torch.utils.data.random_split(\n",
    "        trainset,\n",
    "        [int((1 - split_ratio) * len(trainset)), int(split_ratio * len(trainset))],\n",
    "    )\n",
    "\n",
    "    trainloader = DataLoader(trainset, batch_size=batch_size, shuffle=True)\n",
    "    valloader = DataLoader(valset, batch_size=batch_size, shuffle=True)\n",
    "    testloader = DataLoader(testset, batch_size=batch_size, shuffle=False)\n",
    "    return trainloader, valloader, testloader\n",
    "\n",
    "\n",
    "def get_cifar10_loaders(batch_size, root=\"data/cifar10\", split_ratio=0.1):\n",
    "    transform = transforms.Compose(\n",
    "        [\n",
    "            transforms.RandomCrop(32, padding=4),\n",
    "            transforms.RandomHorizontalFlip(),\n",
    "            transforms.ColorJitter(\n",
    "                brightness=0.2, contrast=0.2, saturation=0.2),\n",
    "            transforms.RandomAffine(degrees=15, translate=(0.1, 0.1)),\n",
    "            transforms.ToTensor(),\n",
    "            transforms.Normalize((0.4914, 0.4822, 0.4465), (0.247, 0.243, 0.261)),\n",
    "        ]\n",
    "    )\n",
    "    eval_transform = transforms.Compose(\n",
    "        [\n",
    "            transforms.ToTensor(),\n",
    "            transforms.Normalize((0.4914, 0.4822, 0.4465), (0.247, 0.243, 0.261)),\n",
    "        ]\n",
    "    )\n",
    "    return get_loaders(\n",
    "        datasets.CIFAR10,\n",
    "        batch_size,\n",
    "        transform,\n",
    "        eval_transform=eval_transform,\n",
    "        root=root,\n",
    "        split_ratio=split_ratio,\n",
    "    )\n",
    "\n",
    "\n",
    "DATALOADERS = {\n",
    "    \"cifar10\": get_cifar10_loaders,\n",
    "}\n",
    "\n",
    "if __name__ == \"__main__\":\n",
    "    datasets_to_load = [\"cifar10\"]\n",
    "    for dataset in datasets_to_load:\n",
    "        trainloader, valloader, testloader = DATALOADERS[dataset](batch_size=64)\n",
    "        print(f'{dataset}: {len(trainloader.dataset)}, {len(valloader.dataset)}, {len(testloader.dataset)}, {trainloader.dataset[0][0].shape}')"
   ]
  },
  {
   "cell_type": "markdown",
   "id": "288a9636",
   "metadata": {},
   "source": [
    "#### Useful utilities\n",
    "- ``evaluate(model, loader, criterion, device)`` – Evaluates a model on a dataset, computing loss, accuracy, and confusion matrix.\n",
    "- ``plot_loss_accuracy(train_loss, train_acc, val_loss, val_acc, filename)`` – Plots and saves the training and validation loss/accuracy curves.\n",
    "- ``save_model(model, filename, verbose, existed)`` – Saves a PyTorch model's state dictionary while handling filename conflicts.\n",
    "- ``load_model(model, filename, qconfig, fuse_modules, verbose)`` – Loads a saved model, optionally applying quantization and module fusion.\n",
    "- ``reset_seed(seed)`` – Sets seeds for PyTorch and NumPy to ensure reproducibility.\n",
    "- ``plot_confusion_matrix(conf_matrix, filename)`` – Generates and saves a heatmap of the confusion matrix for CIFAR-10 classification.\n",
    "\n"
   ]
  },
  {
   "cell_type": "code",
   "execution_count": null,
   "id": "0c0bddd7",
   "metadata": {},
   "outputs": [],
   "source": [
    "import os\n",
    "\n",
    "import matplotlib.pyplot as plt\n",
    "import seaborn as sns\n",
    "import numpy as np\n",
    "from sklearn.metrics import confusion_matrix\n",
    "import torch\n",
    "import torch.ao.quantization as tq\n",
    "from tqdm.notebook import tqdm\n",
    "\n",
    "DEFAULT_DEVICE = \"cuda\" if torch.cuda.is_available() else \"cpu\"\n",
    "\n",
    "\n",
    "def evaluate(model, loader, criterion, device=DEFAULT_DEVICE):\n",
    "    running_loss = 0\n",
    "    total, correct = 0, 0\n",
    "    all_preds, all_labels = [], []\n",
    "\n",
    "    model.eval()\n",
    "    with torch.no_grad():\n",
    "        loop = tqdm(loader, desc=\"Evaluating\", leave=True)\n",
    "\n",
    "        for images, labels in loop:\n",
    "            images, labels = images.to(device), labels.to(device)\n",
    "            output = model(images)\n",
    "            loss = criterion(output, labels)\n",
    "\n",
    "            running_loss += loss.item()\n",
    "            predicted = torch.argmax(output, 1)\n",
    "            total += labels.size(0)\n",
    "            correct += (predicted == labels).sum().item()\n",
    "\n",
    "            all_preds.extend(predicted.cpu().numpy())\n",
    "            all_labels.extend(labels.cpu().numpy())\n",
    "\n",
    "        loop.set_postfix(\n",
    "            loss=running_loss / (total / images.shape[0]), accuracy=correct / total\n",
    "        )\n",
    "\n",
    "    avg_loss = running_loss / len(loader)\n",
    "    accuracy = correct / total\n",
    "    all_preds = np.array(all_preds)\n",
    "    all_labels = np.array(all_labels)\n",
    "    conf_matrix = confusion_matrix(all_labels, all_preds)\n",
    "    return avg_loss, accuracy, conf_matrix\n",
    "\n",
    "\n",
    "def preprocess_filename(filename: str, existed: str = \"keep_both\") -> str:\n",
    "    if existed == \"overwrite\":\n",
    "        pass\n",
    "    elif existed == \"keep_both\":\n",
    "        base, ext = os.path.splitext(filename)\n",
    "        cnt = 1\n",
    "        while os.path.exists(filename):\n",
    "            filename = f\"{base}-{cnt}{ext}\"\n",
    "            cnt += 1\n",
    "    elif existed == \"raise\" and os.path.exists(filename):\n",
    "        raise FileExistsError(f\"{filename} already exists.\")\n",
    "    else:\n",
    "        raise ValueError(f\"Unknown value for 'existed': {existed}\")\n",
    "    return filename\n",
    "\n",
    "\n",
    "def plot_loss_accuracy(\n",
    "    train_loss, train_acc, val_loss, val_acc, filename=\"loss_accuracy.png\"\n",
    "):\n",
    "\n",
    "    fig, (ax1, ax2) = plt.subplots(1, 2)\n",
    "\n",
    "    ax1.set_xlabel(\"Epoch\")\n",
    "    ax1.set_ylabel(\"Loss\")\n",
    "    ax1.plot(train_loss, color=\"tab:blue\")\n",
    "    ax1.plot(val_loss, color=\"tab:red\")\n",
    "    ax1.legend([\"Training\", \"Validation\"])\n",
    "    ax1.set_title(\"Loss\")\n",
    "\n",
    "    ax2.set_xlabel(\"Epoch\")\n",
    "    ax2.set_ylabel(\"Accuracy\")\n",
    "    ax2.plot(train_acc, color=\"tab:blue\")\n",
    "    ax2.plot(val_acc, color=\"tab:red\")\n",
    "    ax2.legend([\"Training\", \"Validation\"])\n",
    "    ax2.set_title(\"Accuracy\")\n",
    "\n",
    "    fig.tight_layout()\n",
    "    filename = preprocess_filename(filename)\n",
    "    os.makedirs(os.path.dirname(filename), exist_ok=True)\n",
    "    plt.savefig(filename)\n",
    "    print(f\"Plot saved at {filename}\")\n",
    "\n",
    "\n",
    "def plot_confusion_matrix(conf_matrix, filename=\"conf_matrix.png\"):\n",
    "    classes = [\n",
    "        \"airplane\",\n",
    "        \"automobile\",\n",
    "        \"bird\",\n",
    "        \"cat\",\n",
    "        \"deer\",\n",
    "        \"dog\",\n",
    "        \"frog\",\n",
    "        \"horse\",\n",
    "        \"ship\",\n",
    "        \"truck\",\n",
    "    ]\n",
    "    plt.figure(figsize=(10, 8))\n",
    "    sns.heatmap(\n",
    "        conf_matrix,\n",
    "        annot=True,\n",
    "        fmt=\"d\",\n",
    "        cmap=\"Blues\",\n",
    "        xticklabels=classes,\n",
    "        yticklabels=classes,\n",
    "    )\n",
    "    plt.xlabel(\"Predicted\")\n",
    "    plt.ylabel(\"True\")\n",
    "    plt.title(\"Confusion Matrix for CIFAR-10 Classification\")\n",
    "    plt.tight_layout()\n",
    "\n",
    "    filename = preprocess_filename(filename)\n",
    "    plt.savefig(filename)\n",
    "    print(f\"Confusion matrix saved to {filename}\")\n",
    "\n",
    "\n",
    "def save_model(\n",
    "    model, filename: str, verbose: bool = True, existed: str = \"keep_both\"\n",
    ") -> None:\n",
    "    filename = preprocess_filename(filename, existed)\n",
    "\n",
    "    os.makedirs(os.path.dirname(filename), exist_ok=True)\n",
    "    torch.save(model.state_dict(), filename)\n",
    "    if verbose:\n",
    "        print(f\"Model saved at {filename} ({os.path.getsize(filename) / 1e6} MB)\")\n",
    "    else:\n",
    "        print(f\"Model saved at {filename}\")\n",
    "\n",
    "def load_model(\n",
    "    model, filename: str, qconfig=None, fuse_modules: bool = False, verbose: bool = True\n",
    ") -> torch.nn.Module:\n",
    "\n",
    "    if fuse_modules and hasattr(model, \"fuse_modules\"):\n",
    "        print(\"Fusing modules\")\n",
    "        model.fuse_modules()\n",
    "    else:\n",
    "        print(\"Model does not have 'fuse_modules' method. Skipping fusion.\")\n",
    "\n",
    "    if qconfig is not None:\n",
    "        model = tq.QuantWrapper(model)\n",
    "        model.qconfig = qconfig\n",
    "        tq.prepare(model, inplace=True)\n",
    "        tq.convert(model, inplace=True)\n",
    "\n",
    "    device = DEFAULT_DEVICE if qconfig is None else \"cpu\"\n",
    "    model.load_state_dict(torch.load(filename, map_location=device))\n",
    "\n",
    "    if verbose:\n",
    "        print(\n",
    "            f\"Model loaded from {filename} ({os.path.getsize(filename) / 1e6} MB)\")\n",
    "    return model\n",
    "\n",
    "\n",
    "def reset_seed(seed: int = 42):\n",
    "    torch.manual_seed(seed)\n",
    "    np.random.seed(seed)\n",
    "    torch.backends.cudnn.deterministic = True\n",
    "    torch.backends.cudnn.benchmark = False"
   ]
  },
  {
   "cell_type": "markdown",
   "id": "92176232",
   "metadata": {},
   "source": [
    "### VGG\n",
    "\n",
    "#### Implement your model based on the given model architecture in the lab material.\n",
    "\n"
   ]
  },
  {
   "cell_type": "code",
   "execution_count": 102,
   "id": "8d81aca9",
   "metadata": {},
   "outputs": [
    {
     "name": "stdout",
     "output_type": "stream",
     "text": [
      "VGG(\n",
      "  (conv1): Conv2d(3, 64, kernel_size=(3, 3), stride=(1, 1), padding=(1, 1))\n",
      "  (bn1): BatchNorm2d(64, eps=1e-05, momentum=0.1, affine=True, track_running_stats=True)\n",
      "  (relu1): ReLU(inplace=True)\n",
      "  (pool1): MaxPool2d(kernel_size=2, stride=2, padding=0, dilation=1, ceil_mode=False)\n",
      "  (conv2): Conv2d(64, 192, kernel_size=(3, 3), stride=(1, 1), padding=(1, 1))\n",
      "  (bn2): BatchNorm2d(192, eps=1e-05, momentum=0.1, affine=True, track_running_stats=True)\n",
      "  (relu2): ReLU(inplace=True)\n",
      "  (pool2): MaxPool2d(kernel_size=2, stride=2, padding=0, dilation=1, ceil_mode=False)\n",
      "  (conv3): Conv2d(192, 384, kernel_size=(3, 3), stride=(1, 1), padding=(1, 1))\n",
      "  (bn3): BatchNorm2d(384, eps=1e-05, momentum=0.1, affine=True, track_running_stats=True)\n",
      "  (relu3): ReLU(inplace=True)\n",
      "  (conv4): Conv2d(384, 256, kernel_size=(3, 3), stride=(1, 1), padding=(1, 1))\n",
      "  (bn4): BatchNorm2d(256, eps=1e-05, momentum=0.1, affine=True, track_running_stats=True)\n",
      "  (relu4): ReLU(inplace=True)\n",
      "  (conv5): Conv2d(256, 256, kernel_size=(3, 3), stride=(1, 1), padding=(1, 1))\n",
      "  (bn5): BatchNorm2d(256, eps=1e-05, momentum=0.1, affine=True, track_running_stats=True)\n",
      "  (relu5): ReLU(inplace=True)\n",
      "  (pool5): MaxPool2d(kernel_size=2, stride=2, padding=0, dilation=1, ceil_mode=False)\n",
      "  (fc6): Linear(in_features=4096, out_features=256, bias=True)\n",
      "  (fc7): Linear(in_features=256, out_features=128, bias=True)\n",
      "  (fc8): Linear(in_features=128, out_features=10, bias=True)\n",
      "  (relu): ReLU(inplace=True)\n",
      "  (dropout): Dropout(p=0.4, inplace=False)\n",
      ")\n",
      "----------------------------------------------------------------\n",
      "        Layer (type)               Output Shape         Param #\n",
      "================================================================\n",
      "            Conv2d-1           [-1, 64, 32, 32]           1,792\n",
      "       BatchNorm2d-2           [-1, 64, 32, 32]             128\n",
      "              ReLU-3           [-1, 64, 32, 32]               0\n",
      "         MaxPool2d-4           [-1, 64, 16, 16]               0\n",
      "            Conv2d-5          [-1, 192, 16, 16]         110,784\n",
      "       BatchNorm2d-6          [-1, 192, 16, 16]             384\n",
      "              ReLU-7          [-1, 192, 16, 16]               0\n",
      "         MaxPool2d-8            [-1, 192, 8, 8]               0\n",
      "            Conv2d-9            [-1, 384, 8, 8]         663,936\n",
      "      BatchNorm2d-10            [-1, 384, 8, 8]             768\n",
      "             ReLU-11            [-1, 384, 8, 8]               0\n",
      "           Conv2d-12            [-1, 256, 8, 8]         884,992\n",
      "      BatchNorm2d-13            [-1, 256, 8, 8]             512\n",
      "             ReLU-14            [-1, 256, 8, 8]               0\n",
      "           Conv2d-15            [-1, 256, 8, 8]         590,080\n",
      "      BatchNorm2d-16            [-1, 256, 8, 8]             512\n",
      "             ReLU-17            [-1, 256, 8, 8]               0\n",
      "        MaxPool2d-18            [-1, 256, 4, 4]               0\n",
      "           Linear-19                  [-1, 256]       1,048,832\n",
      "             ReLU-20                  [-1, 256]               0\n",
      "          Dropout-21                  [-1, 256]               0\n",
      "           Linear-22                  [-1, 128]          32,896\n",
      "             ReLU-23                  [-1, 128]               0\n",
      "          Dropout-24                  [-1, 128]               0\n",
      "           Linear-25                   [-1, 10]           1,290\n",
      "================================================================\n",
      "Total params: 3,336,906\n",
      "Trainable params: 3,336,906\n",
      "Non-trainable params: 0\n",
      "----------------------------------------------------------------\n",
      "Input size (MB): 0.01\n",
      "Forward/backward pass size (MB): 4.20\n",
      "Params size (MB): 12.73\n",
      "Estimated Total Size (MB): 16.94\n",
      "----------------------------------------------------------------\n"
     ]
    }
   ],
   "source": [
    "import torch\n",
    "import torch.nn as nn\n",
    "import torch.ao.quantization as tq\n",
    "\n",
    "\n",
    "class VGG(nn.Module):\n",
    "    \"\"\" Implement your model here \"\"\"\n",
    "    def __init__(self, in_channels=3, in_size=32, num_classes=10) -> None:\n",
    "        super().__init__()\n",
    "        self.conv1 = nn.Conv2d(in_channels, 64, kernel_size=3, padding=1)\n",
    "        self.bn1 = nn.BatchNorm2d(64)\n",
    "        self.relu1 = nn.ReLU(inplace=True)\n",
    "        self.pool1 = nn.MaxPool2d(kernel_size=2, stride=2)\n",
    "\n",
    "        # Conv2\n",
    "        self.conv2 = nn.Conv2d(64, 192, kernel_size=3, padding=1)\n",
    "        self.bn2 = nn.BatchNorm2d(192)\n",
    "        self.relu2 = nn.ReLU(inplace=True)\n",
    "        self.pool2 = nn.MaxPool2d(kernel_size=2, stride=2)\n",
    "\n",
    "        # Conv3\n",
    "        self.conv3 = nn.Conv2d(192, 384, kernel_size=3, padding=1)\n",
    "        self.bn3 = nn.BatchNorm2d(384)\n",
    "        self.relu3 = nn.ReLU(inplace=True)\n",
    "\n",
    "        # Conv4\n",
    "        self.conv4 = nn.Conv2d(384, 256, kernel_size=3, padding=1)\n",
    "        self.bn4 = nn.BatchNorm2d(256)\n",
    "        self.relu4 = nn.ReLU(inplace=True)\n",
    "\n",
    "        # Conv5\n",
    "        self.conv5 = nn.Conv2d(256, 256, kernel_size=3, padding=1)\n",
    "        self.bn5 = nn.BatchNorm2d(256)\n",
    "        self.relu5 = nn.ReLU(inplace=True)\n",
    "        self.pool5 = nn.MaxPool2d(kernel_size=2, stride=2)\n",
    "\n",
    "        # 計算 feature map 的大小\n",
    "        fmap_size = in_size // 2 // 2 // 2  # 3 次 MaxPool，大小變 1/8\n",
    "        self.fc6 = nn.Linear(256 * fmap_size * fmap_size, 256)\n",
    "        self.fc7 = nn.Linear(256, 128)\n",
    "        self.fc8 = nn.Linear(128, num_classes)\n",
    "        self.relu = nn.ReLU(inplace=True)\n",
    "        self.dropout = nn.Dropout(p=0.4)\n",
    "        \n",
    "        \n",
    "    def forward(self, x: torch.Tensor) -> torch.Tensor:\n",
    "        x = self.relu1(self.bn1(self.conv1(x)))\n",
    "        x = self.pool1(x)\n",
    "        x = self.relu2(self.bn2(self.conv2(x)))\n",
    "        x = self.pool2(x)\n",
    "        x = self.relu3(self.bn3(self.conv3(x)))\n",
    "        x = self.relu4(self.bn4(self.conv4(x)))\n",
    "        x = self.relu5(self.bn5(self.conv5(x)))\n",
    "        x = self.pool5(x)\n",
    "        x = torch.flatten(x, start_dim=1)\n",
    "        x = self.fc6(x)\n",
    "        x = self.relu(x)\n",
    "        x = self.dropout(x)\n",
    "        x = self.fc7(x)\n",
    "        x = self.relu(x)\n",
    "        x = self.dropout(x)\n",
    "        x = self.fc8(x)\n",
    "        return x\n",
    "\n",
    "    def fuse_modules(self):\n",
    "        try:\n",
    "            self.eval()\n",
    "            \n",
    "            tq.fuse_modules(self, [['conv1', 'bn1', 'relu1'],\n",
    "                                ['conv2', 'bn2', 'relu2'],\n",
    "                                ['conv3', 'bn3', 'relu3'],\n",
    "                                ['conv4', 'bn4', 'relu4'],\n",
    "                                ['conv5', 'bn5', 'relu5']], inplace=True)\n",
    "            \n",
    "            print(\"✅ Modules successfully fused.\")\n",
    "        except Exception as e:\n",
    "            print(f\"⚠️ Fuse failed: {e}\")\n",
    "    \n",
    "\n",
    "if __name__ == \"__main__\":\n",
    "    model = VGG()\n",
    "    inputs = torch.randn(1, 3, 32, 32)\n",
    "    print(model)\n",
    "\n",
    "    from torchsummary import summary\n",
    "\n",
    "    summary(model, (3, 32, 32), device=\"cpu\")"
   ]
  },
  {
   "cell_type": "markdown",
   "id": "91a927fa",
   "metadata": {},
   "source": [
    "### QConfig\n",
    "#### Quantization scheme\n",
    "- Write your QConfig Observer inorder to do PTQ\n",
    "- Use Power-of-Two uniform/scale, symmetric quantization to quantize model.\n",
    "- Finish qconfig observer for PTQ calibration.\n"
   ]
  },
  {
   "cell_type": "code",
   "execution_count": null,
   "id": "cb885294",
   "metadata": {},
   "outputs": [],
   "source": [
    "from enum import Enum\n",
    "import math\n",
    "from icecream import ic\n",
    "import torch\n",
    "import torch.ao.quantization as tq\n",
    "\n",
    "\n",
    "class PowerOfTwoObserver(tq.MinMaxObserver):\n",
    "    \"\"\"\n",
    "    Observer module for power-of-two quantization (dyadic quantization with b = 1).\n",
    "    \"\"\"\n",
    "\n",
    "    def scale_approximate(self, scale: float, max_shift_amount=8) -> float:\n",
    "        if scale == 0:\n",
    "            return 0  # 直接返回 0，而不是一個很小的值\n",
    "        if scale < 0:\n",
    "            print(\"⚠️ Warning: scale is negative! Using absolute value.\")\n",
    "            scale = abs(scale)\n",
    "            return 1.0\n",
    "        log2_scale = round(math.log2(scale)) \n",
    "        log2_scale = max(-max_shift_amount, min(log2_scale, max_shift_amount))\n",
    "        return 2 ** log2_scale\n",
    "\n",
    "    def calculate_qparams(self):\n",
    "        \"\"\"Calculates the quantization parameters with scale as power of two.\"\"\"\n",
    "        min_val, max_val = self.min_val.item(), self.max_val.item()\n",
    "\n",
    "        \"\"\" Calculate zero_point as in the base class \"\"\"\n",
    "        #########Implement your code here##########\n",
    "    \n",
    "        # 處理極端值\n",
    "        if math.isinf(min_val) or math.isinf(max_val):\n",
    "            min_val = -1 if math.isinf(min_val) else min_val\n",
    "            max_val = 1 if math.isinf(max_val) else max_val\n",
    "\n",
    "        # 避免 min 和 max 相等（通常是全 0 的情況）\n",
    "        if min_val == max_val:\n",
    "            min_val, max_val = min_val - 1, max_val + 1\n",
    "\n",
    "        # 計算尺度 (scale)\n",
    "        scale = (max_val - min_val) / 255  # 8-bit 範圍\n",
    "\n",
    "        # 計算 zero_point (對稱量化固定為 0)\n",
    "        if self.dtype == torch.quint8:\n",
    "            zero_point = 128\n",
    "        elif self.dtype == torch.qint8:\n",
    "            zero_point = 0\n",
    "        else:\n",
    "            # Default case\n",
    "            zero_point = 0\n",
    "        ##########################################\n",
    "        scale = self.scale_approximate(scale)\n",
    "        scale = torch.tensor(scale, dtype=torch.float32)\n",
    "        zero_point = torch.tensor(zero_point, dtype=torch.int64)\n",
    "        return scale, zero_point\n",
    "\n",
    "    def extra_repr(self):\n",
    "        return f\"min_val={self.min_val}, max_val={self.max_val}, scale=PowerOfTwo\"\n",
    "\n",
    "\n",
    "class CustomQConfig(Enum):\n",
    "    POWER2 = tq.QConfig(\n",
    "        activation=PowerOfTwoObserver.with_args(\n",
    "            dtype=torch.quint8, qscheme=torch.per_tensor_symmetric\n",
    "        ),\n",
    "        weight=PowerOfTwoObserver.with_args(\n",
    "            dtype=torch.qint8, qscheme=torch.per_tensor_symmetric\n",
    "        ),\n",
    "    )\n",
    "    DEFAULT = None"
   ]
  },
  {
   "cell_type": "markdown",
   "id": "e6d1ae0d",
   "metadata": {},
   "source": [
    "### Model Training\n",
    "\n",
    "- Set hyper parameter for training.\n",
    "- Record the number of epochs and the accuracy in the results.\n",
    "- Plot the accuracy and loss.\n",
    "\n"
   ]
  },
  {
   "cell_type": "code",
   "execution_count": 104,
   "id": "f5c8e89b",
   "metadata": {},
   "outputs": [
    {
     "name": "stdout",
     "output_type": "stream",
     "text": [
      "Files already downloaded and verified\n",
      "Files already downloaded and verified\n"
     ]
    },
    {
     "data": {
      "application/vnd.jupyter.widget-view+json": {
       "model_id": "34a1160b9e1e44a8bd7f8a54095e4bf6",
       "version_major": 2,
       "version_minor": 0
      },
      "text/plain": [
       "Epochs:   0%|          | 0/50 [00:00<?, ?it/s]"
      ]
     },
     "metadata": {},
     "output_type": "display_data"
    },
    {
     "data": {
      "application/vnd.jupyter.widget-view+json": {
       "model_id": "cec468b164474f25857bc56dfc82696f",
       "version_major": 2,
       "version_minor": 0
      },
      "text/plain": [
       "Training:   0%|          | 0/704 [00:00<?, ?it/s]"
      ]
     },
     "metadata": {},
     "output_type": "display_data"
    },
    {
     "data": {
      "application/vnd.jupyter.widget-view+json": {
       "model_id": "dfac687ee8c0428e80bc8472f2bc2543",
       "version_major": 2,
       "version_minor": 0
      },
      "text/plain": [
       "Evaluating:   0%|          | 0/79 [00:00<?, ?it/s]"
      ]
     },
     "metadata": {},
     "output_type": "display_data"
    },
    {
     "name": "stdout",
     "output_type": "stream",
     "text": [
      "Epoch  1/50  lr=1.00e-02, train_loss=1.7621, val_loss=1.5539, train_acc=0.3358, val_acc=0.4278\n",
      "Model saved at weights/cifar10/vgg.pt (13.367527 MB)\n"
     ]
    },
    {
     "data": {
      "application/vnd.jupyter.widget-view+json": {
       "model_id": "28a275ef4f1b45dc9ac33f7626a7e2cd",
       "version_major": 2,
       "version_minor": 0
      },
      "text/plain": [
       "Training:   0%|          | 0/704 [00:00<?, ?it/s]"
      ]
     },
     "metadata": {},
     "output_type": "display_data"
    },
    {
     "data": {
      "application/vnd.jupyter.widget-view+json": {
       "model_id": "ef2f1fc0a46c4fb7ae0628f2ffa5ecdf",
       "version_major": 2,
       "version_minor": 0
      },
      "text/plain": [
       "Evaluating:   0%|          | 0/79 [00:00<?, ?it/s]"
      ]
     },
     "metadata": {},
     "output_type": "display_data"
    },
    {
     "name": "stdout",
     "output_type": "stream",
     "text": [
      "Epoch  2/50  lr=9.99e-03, train_loss=1.4748, val_loss=1.4184, train_acc=0.4655, val_acc=0.4850\n",
      "Model saved at weights/cifar10/vgg.pt (13.367527 MB)\n"
     ]
    },
    {
     "data": {
      "application/vnd.jupyter.widget-view+json": {
       "model_id": "dbafd69645de4a7cacc22285fcd23392",
       "version_major": 2,
       "version_minor": 0
      },
      "text/plain": [
       "Training:   0%|          | 0/704 [00:00<?, ?it/s]"
      ]
     },
     "metadata": {},
     "output_type": "display_data"
    },
    {
     "data": {
      "application/vnd.jupyter.widget-view+json": {
       "model_id": "94ae6b0725ec4a0d98e4ff0f3096c1b0",
       "version_major": 2,
       "version_minor": 0
      },
      "text/plain": [
       "Evaluating:   0%|          | 0/79 [00:00<?, ?it/s]"
      ]
     },
     "metadata": {},
     "output_type": "display_data"
    },
    {
     "name": "stdout",
     "output_type": "stream",
     "text": [
      "Epoch  3/50  lr=9.96e-03, train_loss=1.3289, val_loss=1.3205, train_acc=0.5284, val_acc=0.5252\n",
      "Model saved at weights/cifar10/vgg.pt (13.367527 MB)\n"
     ]
    },
    {
     "data": {
      "application/vnd.jupyter.widget-view+json": {
       "model_id": "c6540cce79c94166921273e3d591500a",
       "version_major": 2,
       "version_minor": 0
      },
      "text/plain": [
       "Training:   0%|          | 0/704 [00:00<?, ?it/s]"
      ]
     },
     "metadata": {},
     "output_type": "display_data"
    },
    {
     "data": {
      "application/vnd.jupyter.widget-view+json": {
       "model_id": "61aa140474c94155855baf6f3f206847",
       "version_major": 2,
       "version_minor": 0
      },
      "text/plain": [
       "Evaluating:   0%|          | 0/79 [00:00<?, ?it/s]"
      ]
     },
     "metadata": {},
     "output_type": "display_data"
    },
    {
     "name": "stdout",
     "output_type": "stream",
     "text": [
      "Epoch  4/50  lr=9.91e-03, train_loss=1.2186, val_loss=1.1680, train_acc=0.5733, val_acc=0.5802\n",
      "Model saved at weights/cifar10/vgg.pt (13.367527 MB)\n"
     ]
    },
    {
     "data": {
      "application/vnd.jupyter.widget-view+json": {
       "model_id": "88a937cf220049be83bf2ada9083d8e2",
       "version_major": 2,
       "version_minor": 0
      },
      "text/plain": [
       "Training:   0%|          | 0/704 [00:00<?, ?it/s]"
      ]
     },
     "metadata": {},
     "output_type": "display_data"
    },
    {
     "data": {
      "application/vnd.jupyter.widget-view+json": {
       "model_id": "12f30b479cae4026af5c03d80c83015e",
       "version_major": 2,
       "version_minor": 0
      },
      "text/plain": [
       "Evaluating:   0%|          | 0/79 [00:00<?, ?it/s]"
      ]
     },
     "metadata": {},
     "output_type": "display_data"
    },
    {
     "name": "stdout",
     "output_type": "stream",
     "text": [
      "Epoch  5/50  lr=9.84e-03, train_loss=1.1344, val_loss=1.1416, train_acc=0.6067, val_acc=0.5936\n",
      "Model saved at weights/cifar10/vgg.pt (13.367527 MB)\n"
     ]
    },
    {
     "data": {
      "application/vnd.jupyter.widget-view+json": {
       "model_id": "28849a1d01344b81a2310dc61f73ea24",
       "version_major": 2,
       "version_minor": 0
      },
      "text/plain": [
       "Training:   0%|          | 0/704 [00:00<?, ?it/s]"
      ]
     },
     "metadata": {},
     "output_type": "display_data"
    },
    {
     "data": {
      "application/vnd.jupyter.widget-view+json": {
       "model_id": "3c7a002a074b4eadb82b1d5ea4f37ce1",
       "version_major": 2,
       "version_minor": 0
      },
      "text/plain": [
       "Evaluating:   0%|          | 0/79 [00:00<?, ?it/s]"
      ]
     },
     "metadata": {},
     "output_type": "display_data"
    },
    {
     "name": "stdout",
     "output_type": "stream",
     "text": [
      "Epoch  6/50  lr=9.76e-03, train_loss=1.0605, val_loss=1.0428, train_acc=0.6365, val_acc=0.6198\n",
      "Model saved at weights/cifar10/vgg.pt (13.367527 MB)\n"
     ]
    },
    {
     "data": {
      "application/vnd.jupyter.widget-view+json": {
       "model_id": "b4aa42cbcad148ee886020ea9424d4af",
       "version_major": 2,
       "version_minor": 0
      },
      "text/plain": [
       "Training:   0%|          | 0/704 [00:00<?, ?it/s]"
      ]
     },
     "metadata": {},
     "output_type": "display_data"
    },
    {
     "data": {
      "application/vnd.jupyter.widget-view+json": {
       "model_id": "c4aff53f439d4fe9b869810bc1c8ac3a",
       "version_major": 2,
       "version_minor": 0
      },
      "text/plain": [
       "Evaluating:   0%|          | 0/79 [00:00<?, ?it/s]"
      ]
     },
     "metadata": {},
     "output_type": "display_data"
    },
    {
     "name": "stdout",
     "output_type": "stream",
     "text": [
      "Epoch  7/50  lr=9.65e-03, train_loss=1.0003, val_loss=0.9888, train_acc=0.6580, val_acc=0.6502\n",
      "Model saved at weights/cifar10/vgg.pt (13.367527 MB)\n"
     ]
    },
    {
     "data": {
      "application/vnd.jupyter.widget-view+json": {
       "model_id": "a7619c097f9c47d6b8d138e590b57686",
       "version_major": 2,
       "version_minor": 0
      },
      "text/plain": [
       "Training:   0%|          | 0/704 [00:00<?, ?it/s]"
      ]
     },
     "metadata": {},
     "output_type": "display_data"
    },
    {
     "data": {
      "application/vnd.jupyter.widget-view+json": {
       "model_id": "76592c5aa91147a2abf2a39f4f71f6a4",
       "version_major": 2,
       "version_minor": 0
      },
      "text/plain": [
       "Evaluating:   0%|          | 0/79 [00:00<?, ?it/s]"
      ]
     },
     "metadata": {},
     "output_type": "display_data"
    },
    {
     "name": "stdout",
     "output_type": "stream",
     "text": [
      "Epoch  8/50  lr=9.52e-03, train_loss=0.9469, val_loss=1.0066, train_acc=0.6795, val_acc=0.6526\n",
      "Model saved at weights/cifar10/vgg.pt (13.367527 MB)\n"
     ]
    },
    {
     "data": {
      "application/vnd.jupyter.widget-view+json": {
       "model_id": "d60a44d0754b4218aac5ac21030c24c3",
       "version_major": 2,
       "version_minor": 0
      },
      "text/plain": [
       "Training:   0%|          | 0/704 [00:00<?, ?it/s]"
      ]
     },
     "metadata": {},
     "output_type": "display_data"
    },
    {
     "data": {
      "application/vnd.jupyter.widget-view+json": {
       "model_id": "b46dcad362b448528a21971ec7991a6d",
       "version_major": 2,
       "version_minor": 0
      },
      "text/plain": [
       "Evaluating:   0%|          | 0/79 [00:00<?, ?it/s]"
      ]
     },
     "metadata": {},
     "output_type": "display_data"
    },
    {
     "name": "stdout",
     "output_type": "stream",
     "text": [
      "Epoch  9/50  lr=9.38e-03, train_loss=0.8997, val_loss=0.8924, train_acc=0.6981, val_acc=0.6826\n",
      "Model saved at weights/cifar10/vgg.pt (13.367527 MB)\n"
     ]
    },
    {
     "data": {
      "application/vnd.jupyter.widget-view+json": {
       "model_id": "3960632a03d4415cb8669e0f15dc3d80",
       "version_major": 2,
       "version_minor": 0
      },
      "text/plain": [
       "Training:   0%|          | 0/704 [00:00<?, ?it/s]"
      ]
     },
     "metadata": {},
     "output_type": "display_data"
    },
    {
     "data": {
      "application/vnd.jupyter.widget-view+json": {
       "model_id": "bbc529ff47794436b6921aeffa82d07d",
       "version_major": 2,
       "version_minor": 0
      },
      "text/plain": [
       "Evaluating:   0%|          | 0/79 [00:00<?, ?it/s]"
      ]
     },
     "metadata": {},
     "output_type": "display_data"
    },
    {
     "name": "stdout",
     "output_type": "stream",
     "text": [
      "Epoch 10/50  lr=9.22e-03, train_loss=0.8565, val_loss=0.8437, train_acc=0.7158, val_acc=0.7080\n",
      "Model saved at weights/cifar10/vgg.pt (13.367527 MB)\n"
     ]
    },
    {
     "data": {
      "application/vnd.jupyter.widget-view+json": {
       "model_id": "f5b795136b6947f2996e721d05205dee",
       "version_major": 2,
       "version_minor": 0
      },
      "text/plain": [
       "Training:   0%|          | 0/704 [00:00<?, ?it/s]"
      ]
     },
     "metadata": {},
     "output_type": "display_data"
    },
    {
     "data": {
      "application/vnd.jupyter.widget-view+json": {
       "model_id": "1b3eb3fd72864946a81d0706423391bb",
       "version_major": 2,
       "version_minor": 0
      },
      "text/plain": [
       "Evaluating:   0%|          | 0/79 [00:00<?, ?it/s]"
      ]
     },
     "metadata": {},
     "output_type": "display_data"
    },
    {
     "name": "stdout",
     "output_type": "stream",
     "text": [
      "Epoch 11/50  lr=9.05e-03, train_loss=0.8224, val_loss=0.8158, train_acc=0.7282, val_acc=0.7202\n",
      "Model saved at weights/cifar10/vgg.pt (13.367527 MB)\n"
     ]
    },
    {
     "data": {
      "application/vnd.jupyter.widget-view+json": {
       "model_id": "05bac917a43c44188f7cb538c3a012d7",
       "version_major": 2,
       "version_minor": 0
      },
      "text/plain": [
       "Training:   0%|          | 0/704 [00:00<?, ?it/s]"
      ]
     },
     "metadata": {},
     "output_type": "display_data"
    },
    {
     "data": {
      "application/vnd.jupyter.widget-view+json": {
       "model_id": "fde662688fd94fabb135376a1284dede",
       "version_major": 2,
       "version_minor": 0
      },
      "text/plain": [
       "Evaluating:   0%|          | 0/79 [00:00<?, ?it/s]"
      ]
     },
     "metadata": {},
     "output_type": "display_data"
    },
    {
     "name": "stdout",
     "output_type": "stream",
     "text": [
      "Epoch 12/50  lr=8.85e-03, train_loss=0.7866, val_loss=0.7389, train_acc=0.7396, val_acc=0.7476\n",
      "Model saved at weights/cifar10/vgg.pt (13.367527 MB)\n"
     ]
    },
    {
     "data": {
      "application/vnd.jupyter.widget-view+json": {
       "model_id": "071f3b9979f9444a864a3bc15b473bb5",
       "version_major": 2,
       "version_minor": 0
      },
      "text/plain": [
       "Training:   0%|          | 0/704 [00:00<?, ?it/s]"
      ]
     },
     "metadata": {},
     "output_type": "display_data"
    },
    {
     "data": {
      "application/vnd.jupyter.widget-view+json": {
       "model_id": "77b67d7616b3418b996c8559243e3c69",
       "version_major": 2,
       "version_minor": 0
      },
      "text/plain": [
       "Evaluating:   0%|          | 0/79 [00:00<?, ?it/s]"
      ]
     },
     "metadata": {},
     "output_type": "display_data"
    },
    {
     "name": "stdout",
     "output_type": "stream",
     "text": [
      "Epoch 13/50  lr=8.64e-03, train_loss=0.7468, val_loss=0.7415, train_acc=0.7502, val_acc=0.7510\n",
      "Model saved at weights/cifar10/vgg.pt (13.367527 MB)\n"
     ]
    },
    {
     "data": {
      "application/vnd.jupyter.widget-view+json": {
       "model_id": "4df20f87503a46729c883797915b6b2e",
       "version_major": 2,
       "version_minor": 0
      },
      "text/plain": [
       "Training:   0%|          | 0/704 [00:00<?, ?it/s]"
      ]
     },
     "metadata": {},
     "output_type": "display_data"
    },
    {
     "data": {
      "application/vnd.jupyter.widget-view+json": {
       "model_id": "f0e9264180c6482994d81c1ba38587af",
       "version_major": 2,
       "version_minor": 0
      },
      "text/plain": [
       "Evaluating:   0%|          | 0/79 [00:00<?, ?it/s]"
      ]
     },
     "metadata": {},
     "output_type": "display_data"
    },
    {
     "name": "stdout",
     "output_type": "stream",
     "text": [
      "Epoch 14/50  lr=8.42e-03, train_loss=0.7208, val_loss=0.7261, train_acc=0.7628, val_acc=0.7504\n"
     ]
    },
    {
     "data": {
      "application/vnd.jupyter.widget-view+json": {
       "model_id": "91774cecd951411f990601000c65aea7",
       "version_major": 2,
       "version_minor": 0
      },
      "text/plain": [
       "Training:   0%|          | 0/704 [00:00<?, ?it/s]"
      ]
     },
     "metadata": {},
     "output_type": "display_data"
    },
    {
     "data": {
      "application/vnd.jupyter.widget-view+json": {
       "model_id": "447476ef575b45f9b2ac69179396ef89",
       "version_major": 2,
       "version_minor": 0
      },
      "text/plain": [
       "Evaluating:   0%|          | 0/79 [00:00<?, ?it/s]"
      ]
     },
     "metadata": {},
     "output_type": "display_data"
    },
    {
     "name": "stdout",
     "output_type": "stream",
     "text": [
      "Epoch 15/50  lr=8.19e-03, train_loss=0.6815, val_loss=0.6777, train_acc=0.7737, val_acc=0.7656\n",
      "Model saved at weights/cifar10/vgg.pt (13.367527 MB)\n"
     ]
    },
    {
     "data": {
      "application/vnd.jupyter.widget-view+json": {
       "model_id": "d57959a3be984979aff1d5461ae02dce",
       "version_major": 2,
       "version_minor": 0
      },
      "text/plain": [
       "Training:   0%|          | 0/704 [00:00<?, ?it/s]"
      ]
     },
     "metadata": {},
     "output_type": "display_data"
    },
    {
     "data": {
      "application/vnd.jupyter.widget-view+json": {
       "model_id": "4bd42b789dcc4f3fbfccc715998ec0f9",
       "version_major": 2,
       "version_minor": 0
      },
      "text/plain": [
       "Evaluating:   0%|          | 0/79 [00:00<?, ?it/s]"
      ]
     },
     "metadata": {},
     "output_type": "display_data"
    },
    {
     "name": "stdout",
     "output_type": "stream",
     "text": [
      "Epoch 16/50  lr=7.94e-03, train_loss=0.6598, val_loss=0.6987, train_acc=0.7800, val_acc=0.7666\n",
      "Model saved at weights/cifar10/vgg.pt (13.367527 MB)\n"
     ]
    },
    {
     "data": {
      "application/vnd.jupyter.widget-view+json": {
       "model_id": "8f3704f105554d98936383b56c547bb1",
       "version_major": 2,
       "version_minor": 0
      },
      "text/plain": [
       "Training:   0%|          | 0/704 [00:00<?, ?it/s]"
      ]
     },
     "metadata": {},
     "output_type": "display_data"
    },
    {
     "data": {
      "application/vnd.jupyter.widget-view+json": {
       "model_id": "6a28bf9e7a0c47269c124f2a2a26f959",
       "version_major": 2,
       "version_minor": 0
      },
      "text/plain": [
       "Evaluating:   0%|          | 0/79 [00:00<?, ?it/s]"
      ]
     },
     "metadata": {},
     "output_type": "display_data"
    },
    {
     "name": "stdout",
     "output_type": "stream",
     "text": [
      "Epoch 17/50  lr=7.68e-03, train_loss=0.6340, val_loss=0.6572, train_acc=0.7922, val_acc=0.7838\n",
      "Model saved at weights/cifar10/vgg.pt (13.367527 MB)\n"
     ]
    },
    {
     "data": {
      "application/vnd.jupyter.widget-view+json": {
       "model_id": "feaaaa5e4a1943a8a2ccd352da646bda",
       "version_major": 2,
       "version_minor": 0
      },
      "text/plain": [
       "Training:   0%|          | 0/704 [00:00<?, ?it/s]"
      ]
     },
     "metadata": {},
     "output_type": "display_data"
    },
    {
     "data": {
      "application/vnd.jupyter.widget-view+json": {
       "model_id": "d73e5455d6a842259c4aeddba6f3ff06",
       "version_major": 2,
       "version_minor": 0
      },
      "text/plain": [
       "Evaluating:   0%|          | 0/79 [00:00<?, ?it/s]"
      ]
     },
     "metadata": {},
     "output_type": "display_data"
    },
    {
     "name": "stdout",
     "output_type": "stream",
     "text": [
      "Epoch 18/50  lr=7.41e-03, train_loss=0.6065, val_loss=0.6694, train_acc=0.8016, val_acc=0.7722\n"
     ]
    },
    {
     "data": {
      "application/vnd.jupyter.widget-view+json": {
       "model_id": "ff93940733f14926b65e081d079b5195",
       "version_major": 2,
       "version_minor": 0
      },
      "text/plain": [
       "Training:   0%|          | 0/704 [00:00<?, ?it/s]"
      ]
     },
     "metadata": {},
     "output_type": "display_data"
    },
    {
     "data": {
      "application/vnd.jupyter.widget-view+json": {
       "model_id": "dec75d7b4cf84f4abe7bce4aa73f0dbf",
       "version_major": 2,
       "version_minor": 0
      },
      "text/plain": [
       "Evaluating:   0%|          | 0/79 [00:00<?, ?it/s]"
      ]
     },
     "metadata": {},
     "output_type": "display_data"
    },
    {
     "name": "stdout",
     "output_type": "stream",
     "text": [
      "Epoch 19/50  lr=7.13e-03, train_loss=0.5912, val_loss=0.6229, train_acc=0.8050, val_acc=0.7888\n",
      "Model saved at weights/cifar10/vgg.pt (13.367527 MB)\n"
     ]
    },
    {
     "data": {
      "application/vnd.jupyter.widget-view+json": {
       "model_id": "8030f7885d0649d595f4f712db21ccac",
       "version_major": 2,
       "version_minor": 0
      },
      "text/plain": [
       "Training:   0%|          | 0/704 [00:00<?, ?it/s]"
      ]
     },
     "metadata": {},
     "output_type": "display_data"
    },
    {
     "data": {
      "application/vnd.jupyter.widget-view+json": {
       "model_id": "f01faea194c64cb4ac56d7375aae44e4",
       "version_major": 2,
       "version_minor": 0
      },
      "text/plain": [
       "Evaluating:   0%|          | 0/79 [00:00<?, ?it/s]"
      ]
     },
     "metadata": {},
     "output_type": "display_data"
    },
    {
     "name": "stdout",
     "output_type": "stream",
     "text": [
      "Epoch 20/50  lr=6.84e-03, train_loss=0.5633, val_loss=0.5876, train_acc=0.8160, val_acc=0.8014\n",
      "Model saved at weights/cifar10/vgg.pt (13.367527 MB)\n"
     ]
    },
    {
     "data": {
      "application/vnd.jupyter.widget-view+json": {
       "model_id": "599105a9745b4aaa9610b16c9b5ef4f9",
       "version_major": 2,
       "version_minor": 0
      },
      "text/plain": [
       "Training:   0%|          | 0/704 [00:00<?, ?it/s]"
      ]
     },
     "metadata": {},
     "output_type": "display_data"
    },
    {
     "data": {
      "application/vnd.jupyter.widget-view+json": {
       "model_id": "d1540053c2dc4c4cade2fb68ad7ce30c",
       "version_major": 2,
       "version_minor": 0
      },
      "text/plain": [
       "Evaluating:   0%|          | 0/79 [00:00<?, ?it/s]"
      ]
     },
     "metadata": {},
     "output_type": "display_data"
    },
    {
     "name": "stdout",
     "output_type": "stream",
     "text": [
      "Epoch 21/50  lr=6.55e-03, train_loss=0.5452, val_loss=0.6339, train_acc=0.8182, val_acc=0.7908\n"
     ]
    },
    {
     "data": {
      "application/vnd.jupyter.widget-view+json": {
       "model_id": "8b7d401edb804464938d2b99f11dcbe3",
       "version_major": 2,
       "version_minor": 0
      },
      "text/plain": [
       "Training:   0%|          | 0/704 [00:00<?, ?it/s]"
      ]
     },
     "metadata": {},
     "output_type": "display_data"
    },
    {
     "data": {
      "application/vnd.jupyter.widget-view+json": {
       "model_id": "b66a3e54c1854c9f8115864e3d803631",
       "version_major": 2,
       "version_minor": 0
      },
      "text/plain": [
       "Evaluating:   0%|          | 0/79 [00:00<?, ?it/s]"
      ]
     },
     "metadata": {},
     "output_type": "display_data"
    },
    {
     "name": "stdout",
     "output_type": "stream",
     "text": [
      "Epoch 22/50  lr=6.24e-03, train_loss=0.5268, val_loss=0.5643, train_acc=0.8277, val_acc=0.8022\n",
      "Model saved at weights/cifar10/vgg.pt (13.367527 MB)\n"
     ]
    },
    {
     "data": {
      "application/vnd.jupyter.widget-view+json": {
       "model_id": "4c31fcebe26541aba437cd5df8161d89",
       "version_major": 2,
       "version_minor": 0
      },
      "text/plain": [
       "Training:   0%|          | 0/704 [00:00<?, ?it/s]"
      ]
     },
     "metadata": {},
     "output_type": "display_data"
    },
    {
     "data": {
      "application/vnd.jupyter.widget-view+json": {
       "model_id": "8facd4f10e3e451eac953fe10f0f6323",
       "version_major": 2,
       "version_minor": 0
      },
      "text/plain": [
       "Evaluating:   0%|          | 0/79 [00:00<?, ?it/s]"
      ]
     },
     "metadata": {},
     "output_type": "display_data"
    },
    {
     "name": "stdout",
     "output_type": "stream",
     "text": [
      "Epoch 23/50  lr=5.94e-03, train_loss=0.5062, val_loss=0.5836, train_acc=0.8329, val_acc=0.7958\n"
     ]
    },
    {
     "data": {
      "application/vnd.jupyter.widget-view+json": {
       "model_id": "07b153b0abe44130a73ce014493b535e",
       "version_major": 2,
       "version_minor": 0
      },
      "text/plain": [
       "Training:   0%|          | 0/704 [00:00<?, ?it/s]"
      ]
     },
     "metadata": {},
     "output_type": "display_data"
    },
    {
     "data": {
      "application/vnd.jupyter.widget-view+json": {
       "model_id": "ab60d4f365664ffc8ec0dc533c4daf54",
       "version_major": 2,
       "version_minor": 0
      },
      "text/plain": [
       "Evaluating:   0%|          | 0/79 [00:00<?, ?it/s]"
      ]
     },
     "metadata": {},
     "output_type": "display_data"
    },
    {
     "name": "stdout",
     "output_type": "stream",
     "text": [
      "Epoch 24/50  lr=5.63e-03, train_loss=0.4854, val_loss=0.5771, train_acc=0.8374, val_acc=0.8056\n",
      "Model saved at weights/cifar10/vgg.pt (13.367527 MB)\n"
     ]
    },
    {
     "data": {
      "application/vnd.jupyter.widget-view+json": {
       "model_id": "501944a4cfa24acfac6d5a559c58b7af",
       "version_major": 2,
       "version_minor": 0
      },
      "text/plain": [
       "Training:   0%|          | 0/704 [00:00<?, ?it/s]"
      ]
     },
     "metadata": {},
     "output_type": "display_data"
    },
    {
     "data": {
      "application/vnd.jupyter.widget-view+json": {
       "model_id": "a67e10f479a7435086da8a6bab1305c0",
       "version_major": 2,
       "version_minor": 0
      },
      "text/plain": [
       "Evaluating:   0%|          | 0/79 [00:00<?, ?it/s]"
      ]
     },
     "metadata": {},
     "output_type": "display_data"
    },
    {
     "name": "stdout",
     "output_type": "stream",
     "text": [
      "Epoch 25/50  lr=5.31e-03, train_loss=0.4728, val_loss=0.5566, train_acc=0.8459, val_acc=0.8166\n",
      "Model saved at weights/cifar10/vgg.pt (13.367527 MB)\n"
     ]
    },
    {
     "data": {
      "application/vnd.jupyter.widget-view+json": {
       "model_id": "015760653d81444a892497c88f73ff56",
       "version_major": 2,
       "version_minor": 0
      },
      "text/plain": [
       "Training:   0%|          | 0/704 [00:00<?, ?it/s]"
      ]
     },
     "metadata": {},
     "output_type": "display_data"
    },
    {
     "data": {
      "application/vnd.jupyter.widget-view+json": {
       "model_id": "3c28490c16c2439689779277fbd51469",
       "version_major": 2,
       "version_minor": 0
      },
      "text/plain": [
       "Evaluating:   0%|          | 0/79 [00:00<?, ?it/s]"
      ]
     },
     "metadata": {},
     "output_type": "display_data"
    },
    {
     "name": "stdout",
     "output_type": "stream",
     "text": [
      "Epoch 26/50  lr=5.00e-03, train_loss=0.4637, val_loss=0.5568, train_acc=0.8477, val_acc=0.8144\n"
     ]
    },
    {
     "data": {
      "application/vnd.jupyter.widget-view+json": {
       "model_id": "076ce9c395984917a656762ade786a7a",
       "version_major": 2,
       "version_minor": 0
      },
      "text/plain": [
       "Training:   0%|          | 0/704 [00:00<?, ?it/s]"
      ]
     },
     "metadata": {},
     "output_type": "display_data"
    },
    {
     "data": {
      "application/vnd.jupyter.widget-view+json": {
       "model_id": "7107043bc53448269073ea004aa1788a",
       "version_major": 2,
       "version_minor": 0
      },
      "text/plain": [
       "Evaluating:   0%|          | 0/79 [00:00<?, ?it/s]"
      ]
     },
     "metadata": {},
     "output_type": "display_data"
    },
    {
     "name": "stdout",
     "output_type": "stream",
     "text": [
      "Epoch 27/50  lr=4.69e-03, train_loss=0.4450, val_loss=0.5544, train_acc=0.8557, val_acc=0.8170\n",
      "Model saved at weights/cifar10/vgg.pt (13.367527 MB)\n"
     ]
    },
    {
     "data": {
      "application/vnd.jupyter.widget-view+json": {
       "model_id": "74c85eb605cf4c5d9f82fafd26d594c0",
       "version_major": 2,
       "version_minor": 0
      },
      "text/plain": [
       "Training:   0%|          | 0/704 [00:00<?, ?it/s]"
      ]
     },
     "metadata": {},
     "output_type": "display_data"
    },
    {
     "data": {
      "application/vnd.jupyter.widget-view+json": {
       "model_id": "18898a7bc90b49288767cd96640bbf95",
       "version_major": 2,
       "version_minor": 0
      },
      "text/plain": [
       "Evaluating:   0%|          | 0/79 [00:00<?, ?it/s]"
      ]
     },
     "metadata": {},
     "output_type": "display_data"
    },
    {
     "name": "stdout",
     "output_type": "stream",
     "text": [
      "Epoch 28/50  lr=4.37e-03, train_loss=0.4295, val_loss=0.5117, train_acc=0.8596, val_acc=0.8284\n",
      "Model saved at weights/cifar10/vgg.pt (13.367527 MB)\n"
     ]
    },
    {
     "data": {
      "application/vnd.jupyter.widget-view+json": {
       "model_id": "5ea3ced432734d249aeb9b8905223dc4",
       "version_major": 2,
       "version_minor": 0
      },
      "text/plain": [
       "Training:   0%|          | 0/704 [00:00<?, ?it/s]"
      ]
     },
     "metadata": {},
     "output_type": "display_data"
    },
    {
     "data": {
      "application/vnd.jupyter.widget-view+json": {
       "model_id": "55abedffd90a4e06a1cca23074ecec3f",
       "version_major": 2,
       "version_minor": 0
      },
      "text/plain": [
       "Evaluating:   0%|          | 0/79 [00:00<?, ?it/s]"
      ]
     },
     "metadata": {},
     "output_type": "display_data"
    },
    {
     "name": "stdout",
     "output_type": "stream",
     "text": [
      "Epoch 29/50  lr=4.06e-03, train_loss=0.4073, val_loss=0.5068, train_acc=0.8648, val_acc=0.8274\n"
     ]
    },
    {
     "data": {
      "application/vnd.jupyter.widget-view+json": {
       "model_id": "d7c30be274b44cbeb007cf28d90cabab",
       "version_major": 2,
       "version_minor": 0
      },
      "text/plain": [
       "Training:   0%|          | 0/704 [00:00<?, ?it/s]"
      ]
     },
     "metadata": {},
     "output_type": "display_data"
    },
    {
     "data": {
      "application/vnd.jupyter.widget-view+json": {
       "model_id": "338b13e2a46040eab51f5093fbd084f9",
       "version_major": 2,
       "version_minor": 0
      },
      "text/plain": [
       "Evaluating:   0%|          | 0/79 [00:00<?, ?it/s]"
      ]
     },
     "metadata": {},
     "output_type": "display_data"
    },
    {
     "name": "stdout",
     "output_type": "stream",
     "text": [
      "Epoch 30/50  lr=3.76e-03, train_loss=0.3927, val_loss=0.5178, train_acc=0.8692, val_acc=0.8290\n",
      "Model saved at weights/cifar10/vgg.pt (13.367527 MB)\n"
     ]
    },
    {
     "data": {
      "application/vnd.jupyter.widget-view+json": {
       "model_id": "b46c23d830f7418aa7e8d4d766b48519",
       "version_major": 2,
       "version_minor": 0
      },
      "text/plain": [
       "Training:   0%|          | 0/704 [00:00<?, ?it/s]"
      ]
     },
     "metadata": {},
     "output_type": "display_data"
    },
    {
     "data": {
      "application/vnd.jupyter.widget-view+json": {
       "model_id": "f921a27b73124988912d564aa69ed6e6",
       "version_major": 2,
       "version_minor": 0
      },
      "text/plain": [
       "Evaluating:   0%|          | 0/79 [00:00<?, ?it/s]"
      ]
     },
     "metadata": {},
     "output_type": "display_data"
    },
    {
     "name": "stdout",
     "output_type": "stream",
     "text": [
      "Epoch 31/50  lr=3.46e-03, train_loss=0.3771, val_loss=0.5124, train_acc=0.8759, val_acc=0.8326\n",
      "Model saved at weights/cifar10/vgg.pt (13.367527 MB)\n"
     ]
    },
    {
     "data": {
      "application/vnd.jupyter.widget-view+json": {
       "model_id": "2cea49b9356a493fb0a28ab14cf4b53a",
       "version_major": 2,
       "version_minor": 0
      },
      "text/plain": [
       "Training:   0%|          | 0/704 [00:00<?, ?it/s]"
      ]
     },
     "metadata": {},
     "output_type": "display_data"
    },
    {
     "data": {
      "application/vnd.jupyter.widget-view+json": {
       "model_id": "3665489a9725410296e234af8ab2982c",
       "version_major": 2,
       "version_minor": 0
      },
      "text/plain": [
       "Evaluating:   0%|          | 0/79 [00:00<?, ?it/s]"
      ]
     },
     "metadata": {},
     "output_type": "display_data"
    },
    {
     "name": "stdout",
     "output_type": "stream",
     "text": [
      "Epoch 32/50  lr=3.16e-03, train_loss=0.3639, val_loss=0.4883, train_acc=0.8810, val_acc=0.8396\n",
      "Model saved at weights/cifar10/vgg.pt (13.367527 MB)\n"
     ]
    },
    {
     "data": {
      "application/vnd.jupyter.widget-view+json": {
       "model_id": "33e8c99826a14d759927413dcb66778f",
       "version_major": 2,
       "version_minor": 0
      },
      "text/plain": [
       "Training:   0%|          | 0/704 [00:00<?, ?it/s]"
      ]
     },
     "metadata": {},
     "output_type": "display_data"
    },
    {
     "data": {
      "application/vnd.jupyter.widget-view+json": {
       "model_id": "041c2c2c780043068947c2dd19012e77",
       "version_major": 2,
       "version_minor": 0
      },
      "text/plain": [
       "Evaluating:   0%|          | 0/79 [00:00<?, ?it/s]"
      ]
     },
     "metadata": {},
     "output_type": "display_data"
    },
    {
     "name": "stdout",
     "output_type": "stream",
     "text": [
      "Epoch 33/50  lr=2.87e-03, train_loss=0.3545, val_loss=0.4876, train_acc=0.8842, val_acc=0.8426\n",
      "Model saved at weights/cifar10/vgg.pt (13.367527 MB)\n"
     ]
    },
    {
     "data": {
      "application/vnd.jupyter.widget-view+json": {
       "model_id": "add22be3d31c42a3840481814b2f73d2",
       "version_major": 2,
       "version_minor": 0
      },
      "text/plain": [
       "Training:   0%|          | 0/704 [00:00<?, ?it/s]"
      ]
     },
     "metadata": {},
     "output_type": "display_data"
    },
    {
     "data": {
      "application/vnd.jupyter.widget-view+json": {
       "model_id": "52d2f1377a414939a0efcddaa1779726",
       "version_major": 2,
       "version_minor": 0
      },
      "text/plain": [
       "Evaluating:   0%|          | 0/79 [00:00<?, ?it/s]"
      ]
     },
     "metadata": {},
     "output_type": "display_data"
    },
    {
     "name": "stdout",
     "output_type": "stream",
     "text": [
      "Epoch 34/50  lr=2.59e-03, train_loss=0.3351, val_loss=0.4875, train_acc=0.8890, val_acc=0.8418\n"
     ]
    },
    {
     "data": {
      "application/vnd.jupyter.widget-view+json": {
       "model_id": "d182115d740f41c294baf82ad41f22ab",
       "version_major": 2,
       "version_minor": 0
      },
      "text/plain": [
       "Training:   0%|          | 0/704 [00:00<?, ?it/s]"
      ]
     },
     "metadata": {},
     "output_type": "display_data"
    },
    {
     "data": {
      "application/vnd.jupyter.widget-view+json": {
       "model_id": "092168d7164b4998bb14edd8de241404",
       "version_major": 2,
       "version_minor": 0
      },
      "text/plain": [
       "Evaluating:   0%|          | 0/79 [00:00<?, ?it/s]"
      ]
     },
     "metadata": {},
     "output_type": "display_data"
    },
    {
     "name": "stdout",
     "output_type": "stream",
     "text": [
      "Epoch 35/50  lr=2.32e-03, train_loss=0.3286, val_loss=0.4817, train_acc=0.8913, val_acc=0.8472\n",
      "Model saved at weights/cifar10/vgg.pt (13.367527 MB)\n"
     ]
    },
    {
     "data": {
      "application/vnd.jupyter.widget-view+json": {
       "model_id": "deac36a783184a7eb6c2705b6ee2f2ab",
       "version_major": 2,
       "version_minor": 0
      },
      "text/plain": [
       "Training:   0%|          | 0/704 [00:00<?, ?it/s]"
      ]
     },
     "metadata": {},
     "output_type": "display_data"
    },
    {
     "data": {
      "application/vnd.jupyter.widget-view+json": {
       "model_id": "11f6cda6834a4126b2e209a4a9f51168",
       "version_major": 2,
       "version_minor": 0
      },
      "text/plain": [
       "Evaluating:   0%|          | 0/79 [00:00<?, ?it/s]"
      ]
     },
     "metadata": {},
     "output_type": "display_data"
    },
    {
     "name": "stdout",
     "output_type": "stream",
     "text": [
      "Epoch 36/50  lr=2.06e-03, train_loss=0.3198, val_loss=0.4817, train_acc=0.8945, val_acc=0.8488\n",
      "Model saved at weights/cifar10/vgg.pt (13.367527 MB)\n"
     ]
    },
    {
     "data": {
      "application/vnd.jupyter.widget-view+json": {
       "model_id": "2831626f19e047229d9077a1f6ebf146",
       "version_major": 2,
       "version_minor": 0
      },
      "text/plain": [
       "Training:   0%|          | 0/704 [00:00<?, ?it/s]"
      ]
     },
     "metadata": {},
     "output_type": "display_data"
    },
    {
     "data": {
      "application/vnd.jupyter.widget-view+json": {
       "model_id": "2777499d69e94e7e889c93a46089730e",
       "version_major": 2,
       "version_minor": 0
      },
      "text/plain": [
       "Evaluating:   0%|          | 0/79 [00:00<?, ?it/s]"
      ]
     },
     "metadata": {},
     "output_type": "display_data"
    },
    {
     "name": "stdout",
     "output_type": "stream",
     "text": [
      "Epoch 37/50  lr=1.81e-03, train_loss=0.3093, val_loss=0.4422, train_acc=0.8970, val_acc=0.8520\n",
      "Model saved at weights/cifar10/vgg.pt (13.367527 MB)\n"
     ]
    },
    {
     "data": {
      "application/vnd.jupyter.widget-view+json": {
       "model_id": "9ea21712de5f4277b35e6eebcb0cb4d4",
       "version_major": 2,
       "version_minor": 0
      },
      "text/plain": [
       "Training:   0%|          | 0/704 [00:00<?, ?it/s]"
      ]
     },
     "metadata": {},
     "output_type": "display_data"
    },
    {
     "data": {
      "application/vnd.jupyter.widget-view+json": {
       "model_id": "527ed53236d549cfa96bf0fa02c17522",
       "version_major": 2,
       "version_minor": 0
      },
      "text/plain": [
       "Evaluating:   0%|          | 0/79 [00:00<?, ?it/s]"
      ]
     },
     "metadata": {},
     "output_type": "display_data"
    },
    {
     "name": "stdout",
     "output_type": "stream",
     "text": [
      "Epoch 38/50  lr=1.58e-03, train_loss=0.2974, val_loss=0.4408, train_acc=0.9015, val_acc=0.8570\n",
      "Model saved at weights/cifar10/vgg.pt (13.367527 MB)\n"
     ]
    },
    {
     "data": {
      "application/vnd.jupyter.widget-view+json": {
       "model_id": "5ae3a15f1c3a45a2bb916418ee9814d5",
       "version_major": 2,
       "version_minor": 0
      },
      "text/plain": [
       "Training:   0%|          | 0/704 [00:00<?, ?it/s]"
      ]
     },
     "metadata": {},
     "output_type": "display_data"
    },
    {
     "data": {
      "application/vnd.jupyter.widget-view+json": {
       "model_id": "6fb1365257294a29a0212efac7983abb",
       "version_major": 2,
       "version_minor": 0
      },
      "text/plain": [
       "Evaluating:   0%|          | 0/79 [00:00<?, ?it/s]"
      ]
     },
     "metadata": {},
     "output_type": "display_data"
    },
    {
     "name": "stdout",
     "output_type": "stream",
     "text": [
      "Epoch 39/50  lr=1.36e-03, train_loss=0.2848, val_loss=0.4565, train_acc=0.9064, val_acc=0.8570\n",
      "Model saved at weights/cifar10/vgg.pt (13.367527 MB)\n"
     ]
    },
    {
     "data": {
      "application/vnd.jupyter.widget-view+json": {
       "model_id": "181cdaa6ab4e4dd5adbf2cd65922ea60",
       "version_major": 2,
       "version_minor": 0
      },
      "text/plain": [
       "Training:   0%|          | 0/704 [00:00<?, ?it/s]"
      ]
     },
     "metadata": {},
     "output_type": "display_data"
    },
    {
     "data": {
      "application/vnd.jupyter.widget-view+json": {
       "model_id": "67f73cc24daa4492ba8d511ffd535883",
       "version_major": 2,
       "version_minor": 0
      },
      "text/plain": [
       "Evaluating:   0%|          | 0/79 [00:00<?, ?it/s]"
      ]
     },
     "metadata": {},
     "output_type": "display_data"
    },
    {
     "name": "stdout",
     "output_type": "stream",
     "text": [
      "Epoch 40/50  lr=1.15e-03, train_loss=0.2733, val_loss=0.4621, train_acc=0.9110, val_acc=0.8478\n"
     ]
    },
    {
     "data": {
      "application/vnd.jupyter.widget-view+json": {
       "model_id": "0cbcef2903434118b5a623c8561120c9",
       "version_major": 2,
       "version_minor": 0
      },
      "text/plain": [
       "Training:   0%|          | 0/704 [00:00<?, ?it/s]"
      ]
     },
     "metadata": {},
     "output_type": "display_data"
    },
    {
     "data": {
      "application/vnd.jupyter.widget-view+json": {
       "model_id": "d4965e9e3c8b4fd587b22ada9734de77",
       "version_major": 2,
       "version_minor": 0
      },
      "text/plain": [
       "Evaluating:   0%|          | 0/79 [00:00<?, ?it/s]"
      ]
     },
     "metadata": {},
     "output_type": "display_data"
    },
    {
     "name": "stdout",
     "output_type": "stream",
     "text": [
      "Epoch 41/50  lr=9.56e-04, train_loss=0.2681, val_loss=0.4548, train_acc=0.9112, val_acc=0.8568\n"
     ]
    },
    {
     "data": {
      "application/vnd.jupyter.widget-view+json": {
       "model_id": "74fe76af66ac45a3ba1425a6d7ce64aa",
       "version_major": 2,
       "version_minor": 0
      },
      "text/plain": [
       "Training:   0%|          | 0/704 [00:00<?, ?it/s]"
      ]
     },
     "metadata": {},
     "output_type": "display_data"
    },
    {
     "data": {
      "application/vnd.jupyter.widget-view+json": {
       "model_id": "f570e98fc3c54528a51c38a9a8c04633",
       "version_major": 2,
       "version_minor": 0
      },
      "text/plain": [
       "Evaluating:   0%|          | 0/79 [00:00<?, ?it/s]"
      ]
     },
     "metadata": {},
     "output_type": "display_data"
    },
    {
     "name": "stdout",
     "output_type": "stream",
     "text": [
      "Epoch 42/50  lr=7.79e-04, train_loss=0.2558, val_loss=0.4332, train_acc=0.9161, val_acc=0.8562\n"
     ]
    },
    {
     "data": {
      "application/vnd.jupyter.widget-view+json": {
       "model_id": "c231ec1737d4416e871457528dc4a112",
       "version_major": 2,
       "version_minor": 0
      },
      "text/plain": [
       "Training:   0%|          | 0/704 [00:00<?, ?it/s]"
      ]
     },
     "metadata": {},
     "output_type": "display_data"
    },
    {
     "data": {
      "application/vnd.jupyter.widget-view+json": {
       "model_id": "f91e2c4412cb4ddb80b028e9cc7cb674",
       "version_major": 2,
       "version_minor": 0
      },
      "text/plain": [
       "Evaluating:   0%|          | 0/79 [00:00<?, ?it/s]"
      ]
     },
     "metadata": {},
     "output_type": "display_data"
    },
    {
     "name": "stdout",
     "output_type": "stream",
     "text": [
      "Epoch 43/50  lr=6.19e-04, train_loss=0.2447, val_loss=0.4525, train_acc=0.9207, val_acc=0.8620\n",
      "Model saved at weights/cifar10/vgg.pt (13.367527 MB)\n"
     ]
    },
    {
     "data": {
      "application/vnd.jupyter.widget-view+json": {
       "model_id": "c72c8062d183481c9d80d21284420980",
       "version_major": 2,
       "version_minor": 0
      },
      "text/plain": [
       "Training:   0%|          | 0/704 [00:00<?, ?it/s]"
      ]
     },
     "metadata": {},
     "output_type": "display_data"
    },
    {
     "data": {
      "application/vnd.jupyter.widget-view+json": {
       "model_id": "c7a06561327a403caeb4cd81a9250de7",
       "version_major": 2,
       "version_minor": 0
      },
      "text/plain": [
       "Evaluating:   0%|          | 0/79 [00:00<?, ?it/s]"
      ]
     },
     "metadata": {},
     "output_type": "display_data"
    },
    {
     "name": "stdout",
     "output_type": "stream",
     "text": [
      "Epoch 44/50  lr=4.77e-04, train_loss=0.2436, val_loss=0.4488, train_acc=0.9205, val_acc=0.8604\n"
     ]
    },
    {
     "data": {
      "application/vnd.jupyter.widget-view+json": {
       "model_id": "31233f96d1404624966a472cc4b17bf0",
       "version_major": 2,
       "version_minor": 0
      },
      "text/plain": [
       "Training:   0%|          | 0/704 [00:00<?, ?it/s]"
      ]
     },
     "metadata": {},
     "output_type": "display_data"
    },
    {
     "data": {
      "application/vnd.jupyter.widget-view+json": {
       "model_id": "4fa4eb883ed24363b59168675ba388d8",
       "version_major": 2,
       "version_minor": 0
      },
      "text/plain": [
       "Evaluating:   0%|          | 0/79 [00:00<?, ?it/s]"
      ]
     },
     "metadata": {},
     "output_type": "display_data"
    },
    {
     "name": "stdout",
     "output_type": "stream",
     "text": [
      "Epoch 45/50  lr=3.52e-04, train_loss=0.2354, val_loss=0.4561, train_acc=0.9231, val_acc=0.8560\n"
     ]
    },
    {
     "data": {
      "application/vnd.jupyter.widget-view+json": {
       "model_id": "4f655482511d4753b4d465f05062de61",
       "version_major": 2,
       "version_minor": 0
      },
      "text/plain": [
       "Training:   0%|          | 0/704 [00:00<?, ?it/s]"
      ]
     },
     "metadata": {},
     "output_type": "display_data"
    },
    {
     "data": {
      "application/vnd.jupyter.widget-view+json": {
       "model_id": "0dd6ef794b724ca6bf483ba5962fcaa6",
       "version_major": 2,
       "version_minor": 0
      },
      "text/plain": [
       "Evaluating:   0%|          | 0/79 [00:00<?, ?it/s]"
      ]
     },
     "metadata": {},
     "output_type": "display_data"
    },
    {
     "name": "stdout",
     "output_type": "stream",
     "text": [
      "Epoch 46/50  lr=2.46e-04, train_loss=0.2360, val_loss=0.4226, train_acc=0.9240, val_acc=0.8668\n",
      "Model saved at weights/cifar10/vgg.pt (13.367527 MB)\n"
     ]
    },
    {
     "data": {
      "application/vnd.jupyter.widget-view+json": {
       "model_id": "04a01ffb8bdb4958aa6d814f40a8df63",
       "version_major": 2,
       "version_minor": 0
      },
      "text/plain": [
       "Training:   0%|          | 0/704 [00:00<?, ?it/s]"
      ]
     },
     "metadata": {},
     "output_type": "display_data"
    },
    {
     "data": {
      "application/vnd.jupyter.widget-view+json": {
       "model_id": "15e03ef3328448f2a9a80f4687234a1b",
       "version_major": 2,
       "version_minor": 0
      },
      "text/plain": [
       "Evaluating:   0%|          | 0/79 [00:00<?, ?it/s]"
      ]
     },
     "metadata": {},
     "output_type": "display_data"
    },
    {
     "name": "stdout",
     "output_type": "stream",
     "text": [
      "Epoch 47/50  lr=1.58e-04, train_loss=0.2303, val_loss=0.4334, train_acc=0.9246, val_acc=0.8626\n"
     ]
    },
    {
     "data": {
      "application/vnd.jupyter.widget-view+json": {
       "model_id": "113f5a65b5194760ad27888dd87e684c",
       "version_major": 2,
       "version_minor": 0
      },
      "text/plain": [
       "Training:   0%|          | 0/704 [00:00<?, ?it/s]"
      ]
     },
     "metadata": {},
     "output_type": "display_data"
    },
    {
     "data": {
      "application/vnd.jupyter.widget-view+json": {
       "model_id": "c144617eb13e45648c592cfd8dd13cf9",
       "version_major": 2,
       "version_minor": 0
      },
      "text/plain": [
       "Evaluating:   0%|          | 0/79 [00:00<?, ?it/s]"
      ]
     },
     "metadata": {},
     "output_type": "display_data"
    },
    {
     "name": "stdout",
     "output_type": "stream",
     "text": [
      "Epoch 48/50  lr=8.96e-05, train_loss=0.2289, val_loss=0.4426, train_acc=0.9241, val_acc=0.8654\n"
     ]
    },
    {
     "data": {
      "application/vnd.jupyter.widget-view+json": {
       "model_id": "9116e2e5563142bcad5061c915e0639b",
       "version_major": 2,
       "version_minor": 0
      },
      "text/plain": [
       "Training:   0%|          | 0/704 [00:00<?, ?it/s]"
      ]
     },
     "metadata": {},
     "output_type": "display_data"
    },
    {
     "data": {
      "application/vnd.jupyter.widget-view+json": {
       "model_id": "d66a53e27f874d5393ad05dda2a86ea1",
       "version_major": 2,
       "version_minor": 0
      },
      "text/plain": [
       "Evaluating:   0%|          | 0/79 [00:00<?, ?it/s]"
      ]
     },
     "metadata": {},
     "output_type": "display_data"
    },
    {
     "name": "stdout",
     "output_type": "stream",
     "text": [
      "Epoch 49/50  lr=4.04e-05, train_loss=0.2245, val_loss=0.4314, train_acc=0.9265, val_acc=0.8644\n"
     ]
    },
    {
     "data": {
      "application/vnd.jupyter.widget-view+json": {
       "model_id": "bba66a2d6b1b491c98831d05a8216a13",
       "version_major": 2,
       "version_minor": 0
      },
      "text/plain": [
       "Training:   0%|          | 0/704 [00:00<?, ?it/s]"
      ]
     },
     "metadata": {},
     "output_type": "display_data"
    },
    {
     "data": {
      "application/vnd.jupyter.widget-view+json": {
       "model_id": "d13752634b364b958ea1a156f60689e0",
       "version_major": 2,
       "version_minor": 0
      },
      "text/plain": [
       "Evaluating:   0%|          | 0/79 [00:00<?, ?it/s]"
      ]
     },
     "metadata": {},
     "output_type": "display_data"
    },
    {
     "name": "stdout",
     "output_type": "stream",
     "text": [
      "Epoch 50/50  lr=1.09e-05, train_loss=0.2253, val_loss=0.4442, train_acc=0.9264, val_acc=0.8638\n"
     ]
    },
    {
     "data": {
      "application/vnd.jupyter.widget-view+json": {
       "model_id": "dd338942b1bc41ce949f969bfacd653c",
       "version_major": 2,
       "version_minor": 0
      },
      "text/plain": [
       "Evaluating:   0%|          | 0/157 [00:00<?, ?it/s]"
      ]
     },
     "metadata": {},
     "output_type": "display_data"
    },
    {
     "name": "stdout",
     "output_type": "stream",
     "text": [
      "Test: loss=0.3493, accuracy=0.8970\n",
      "Model size: 13.37 MB\n",
      "Plot saved at figure/cifar10/vgg.png\n",
      "Time: 1721.29s\n"
     ]
    },
    {
     "data": {
      "image/png": "[encoded data removed]",
      "text/plain": [
       "<Figure size 640x480 with 2 Axes>"
      ]
     },
     "metadata": {},
     "output_type": "display_data"
    }
   ],
   "source": [
    "import os\n",
    "import time\n",
    "\n",
    "import torch\n",
    "from torch import nn, optim\n",
    "from tqdm.auto import tqdm\n",
    "\n",
    "reset_seed(10)\n",
    "\n",
    "\n",
    "def train_one_epoch(model, loader, criterion, optimizer, device=DEFAULT_DEVICE):\n",
    "    running_loss = 0\n",
    "    total, correct = 0, 0\n",
    "\n",
    "    loop = tqdm(loader, desc=\"Training\", leave=True)\n",
    "\n",
    "    for images, labels in loop:\n",
    "        images, labels = images.to(device), labels.to(device)\n",
    "        optimizer.zero_grad()\n",
    "        output = model(images)\n",
    "        loss = criterion(output, labels)\n",
    "        loss.backward()\n",
    "        optimizer.step()\n",
    "\n",
    "        running_loss += loss.item()\n",
    "        predicted = torch.argmax(output, 1)\n",
    "        total += labels.size(0)\n",
    "        correct += (predicted == labels).sum().item()\n",
    "\n",
    "        loop.set_postfix(\n",
    "            loss=running_loss / (total / images.shape[0]), accuracy=correct / total\n",
    "        )\n",
    "\n",
    "    avg_loss = running_loss / len(loader)\n",
    "    accuracy = correct / total\n",
    "    return avg_loss, accuracy\n",
    "\n",
    "\n",
    "def train(\n",
    "    model,\n",
    "    trainloader,\n",
    "    valloader,\n",
    "    criterion,\n",
    "    optimizer,\n",
    "    scheduler=None,\n",
    "    epochs=1,\n",
    "    save_path=None,\n",
    "    device=DEFAULT_DEVICE,\n",
    "):\n",
    "    model = model.to(device)\n",
    "\n",
    "    train_loss, train_acc = [], []\n",
    "    val_loss, val_acc = [], []\n",
    "\n",
    "    epoch_loop = tqdm(range(epochs), desc=\"Epochs\", leave=True)\n",
    "\n",
    "    for epoch in epoch_loop:\n",
    "        model.train()\n",
    "        _train_loss, _train_acc = train_one_epoch(\n",
    "            model, trainloader, criterion, optimizer\n",
    "        )\n",
    "        train_loss.append(_train_loss)\n",
    "        train_acc.append(_train_acc)\n",
    "\n",
    "        model.eval()\n",
    "        _val_loss, _val_acc, _ = evaluate(model, valloader, criterion)\n",
    "        val_loss.append(_val_loss)\n",
    "        val_acc.append(_val_acc)\n",
    "\n",
    "        print(f\"Epoch {epoch + 1:2d}/{epochs}\", end=\"  \")\n",
    "        if scheduler is not None:\n",
    "            print(f\"lr={scheduler.get_last_lr()[0]:.2e}\", end=\", \")\n",
    "        print(f\"train_loss={_train_loss:.4f}, val_loss={_val_loss:.4f}\", end=\", \")\n",
    "        print(f\"train_acc={_train_acc:.4f}, val_acc={_val_acc:.4f}\")\n",
    "\n",
    "        if _val_acc >= max(val_acc):\n",
    "            save_model(model, save_path, existed=\"overwrite\")\n",
    "\n",
    "        if scheduler is not None:\n",
    "            scheduler.step()\n",
    "\n",
    "        epoch_loop.set_postfix(\n",
    "            train_loss=_train_loss,\n",
    "            val_loss=_val_loss,\n",
    "            train_acc=_train_acc,\n",
    "            val_acc=_val_acc,\n",
    "        )\n",
    "\n",
    "    return train_loss, train_acc, val_loss, val_acc\n",
    "\n",
    "\n",
    "def main(epochs, network, dataset, name=None):\n",
    "    dataset = dataset.lower()\n",
    "    if name is None:\n",
    "        name = f\"{dataset}/{network.__name__.lower()}\"\n",
    "\n",
    "    t = time.time()\n",
    "    trainloader, valloader, testloader = DATALOADERS[dataset](batch_size=64)\n",
    "    in_channels, in_size = trainloader.dataset[0][0].shape[:2]\n",
    "    model = network(in_channels, in_size).to(DEFAULT_DEVICE)\n",
    "    #########Implement your code here##########\n",
    "    # Loss function\n",
    "    criterion = nn.CrossEntropyLoss()\n",
    "    #Optimizer\n",
    "    optimizer = optim.SGD(model.parameters(), lr=1e-2, momentum=0.9,weight_decay=1e-4)\n",
    "    #Scheduler\n",
    "    scheduler = optim.lr_scheduler.CosineAnnealingLR(optimizer, T_max=50, eta_min=1e-6)\n",
    "    ##########################################\n",
    "    train_loss, train_acc, val_loss, val_acc = train(\n",
    "        model,\n",
    "        trainloader,\n",
    "        valloader,\n",
    "        criterion,\n",
    "        optimizer,\n",
    "        scheduler,\n",
    "        epochs,\n",
    "        save_path=f\"weights/{name}.pt\",\n",
    "    )\n",
    "\n",
    "    test_loss, test_accuracy, _ = evaluate(model.eval(), testloader, criterion)\n",
    "    print(f\"Test: loss={test_loss:.4f}, accuracy={test_accuracy:.4f}\")\n",
    "    print(f\"Model size: {os.path.getsize(f'weights/{name}.pt') / 1e6:.2f} MB\")\n",
    "\n",
    "    plot_loss_accuracy(train_loss, train_acc, val_loss, val_acc, f\"figure/{name}.png\")\n",
    "    print(f\"Time: {time.time() - t:.2f}s\")\n",
    "\n",
    "\n",
    "if __name__ == \"__main__\":\n",
    "    for network in [VGG]:\n",
    "        \"\"\" You can adjust the number of epochs \"\"\"\n",
    "        EPOCHS = 50\n",
    "        main(epochs=EPOCHS, network=network, dataset=\"cifar10\")"
   ]
  },
  {
   "cell_type": "markdown",
   "id": "42eaf005",
   "metadata": {},
   "source": [
    "### PTQ on VGG Model\n",
    "\n",
    "#### You can refer to 'Quantization in Practice' in the lab material.\n",
    "\n"
   ]
  },
  {
   "cell_type": "code",
   "execution_count": 107,
   "id": "eb37bad6",
   "metadata": {},
   "outputs": [
    {
     "name": "stdout",
     "output_type": "stream",
     "text": [
      "Files already downloaded and verified\n",
      "Files already downloaded and verified\n",
      "✅ Modules successfully fused.\n"
     ]
    },
    {
     "name": "stderr",
     "output_type": "stream",
     "text": [
      "C:\\Users\\bend0\\AppData\\Local\\Temp\\ipykernel_12312\\1959724836.py:33: FutureWarning: You are using `torch.load` with `weights_only=False` (the current default value), which uses the default pickle module implicitly. It is possible to construct malicious pickle data which will execute arbitrary code during unpickling (See https://github.com/pytorch/pytorch/blob/main/SECURITY.md#untrusted-models for more details). In a future release, the default value for `weights_only` will be flipped to `True`. This limits the functions that could be executed during unpickling. Arbitrary objects will no longer be allowed to be loaded via this mode unless they are explicitly allowlisted by the user via `torch.serialization.add_safe_globals`. We recommend you start setting `weights_only=True` for any use case where you don't have full control of the loaded file. Please open an issue on GitHub for any issues related to this experimental feature.\n",
      "  model.load_state_dict(torch.load(\"./weights/cifar10/vgg.pt\"))\n"
     ]
    },
    {
     "data": {
      "application/vnd.jupyter.widget-view+json": {
       "model_id": "730cbd13c0f947818d549368f494f42d",
       "version_major": 2,
       "version_minor": 0
      },
      "text/plain": [
       "Calibrating Model:   0%|          | 0/10 [00:00<?, ?it/s]"
      ]
     },
     "metadata": {},
     "output_type": "display_data"
    },
    {
     "name": "stdout",
     "output_type": "stream",
     "text": [
      "✅ Calibration complete.\n",
      "Model saved at weights/cifar10/vgg-power2.pt (3.350946 MB)\n",
      "Quantized model saved at vgg-power2.pt\n"
     ]
    }
   ],
   "source": [
    "import os\n",
    "import torch\n",
    "import torchvision\n",
    "from torch import nn, optim\n",
    "import torch.ao.quantization as tq\n",
    "\n",
    "reset_seed(0)\n",
    "\n",
    "#########Implement your code here##########\n",
    "\"\"\" Calibrate Method \"\"\"\n",
    "def calibrate(model, loader, device=DEFAULT_DEVICE, num_batches=50):\n",
    "    model.eval()\n",
    "    model.to(device)\n",
    "    \n",
    "    with torch.no_grad():\n",
    "        for i, (images, _) in enumerate(tqdm(loader, desc=\"Calibrating Model\")):\n",
    "            images = images.to(device)\n",
    "            model(images)  # 讓 Observer 收集 activation 範圍\n",
    "            if num_batches is not None and i >= num_batches - 1:\n",
    "                break  # 使用指定數量的批次\n",
    "    print(\"✅ Calibration complete.\")\n",
    "###########################################\n",
    "\n",
    "def main(network, verbose=True):\n",
    "\n",
    "    #########Implement your code here##########\n",
    "    \n",
    "    *_, test_loader = DATALOADERS[dataset](batch_size=1000)\n",
    "    in_channels, in_size = test_loader.dataset[0][0].shape[:2]\n",
    "\n",
    "    \n",
    "    model = network(in_channels, in_size).eval().cpu()\n",
    "    model.load_state_dict(torch.load(\"./weights/cifar10/vgg.pt\"))\n",
    "    model = tq.QuantWrapper(model)\n",
    "    model.qconfig = CustomQConfig.POWER2.value\n",
    "    \n",
    "    #fuse_modules(model.module)\n",
    "    model.module.fuse_modules()\n",
    "    tq.prepare(model, inplace=True)\n",
    "    \n",
    "    calibrate(model, test_loader, \"cpu\")\n",
    "    \n",
    "    tq.convert(model.cpu(), inplace=True)\n",
    "    save_model(model, \"weights/cifar10/vgg-power2.pt\",\n",
    "                verbose=True,existed=\"overwrite\")\n",
    "\n",
    "    if verbose:\n",
    "        print(\"Quantized model saved at vgg-power2.pt\")\n",
    "    ###########################################\n",
    "\n",
    "\n",
    "if __name__ == \"__main__\":\n",
    "    main(network=VGG, verbose=True) "
   ]
  },
  {
   "cell_type": "markdown",
   "id": "493c47b3",
   "metadata": {},
   "source": [
    "### Evaluate Quantized Model\n"
   ]
  },
  {
   "cell_type": "code",
   "execution_count": 108,
   "id": "a69b6b76",
   "metadata": {},
   "outputs": [
    {
     "name": "stdout",
     "output_type": "stream",
     "text": [
      "Files already downloaded and verified\n",
      "Files already downloaded and verified\n",
      "Fusing modules\n",
      "✅ Modules successfully fused.\n",
      "Model loaded from ./weights/cifar10/vgg-power2.pt (3.350946 MB)\n",
      "QuantWrapper(\n",
      "  (quant): Quantize(scale=tensor([0.0156]), zero_point=tensor([128]), dtype=torch.quint8)\n",
      "  (dequant): DeQuantize()\n",
      "  (module): VGG(\n",
      "    (conv1): QuantizedConvReLU2d(3, 64, kernel_size=(3, 3), stride=(1, 1), scale=0.0625, zero_point=128, padding=(1, 1))\n",
      "    (bn1): Identity()\n",
      "    (relu1): Identity()\n",
      "    (pool1): MaxPool2d(kernel_size=2, stride=2, padding=0, dilation=1, ceil_mode=False)\n",
      "    (conv2): QuantizedConvReLU2d(64, 192, kernel_size=(3, 3), stride=(1, 1), scale=0.0625, zero_point=128, padding=(1, 1))\n",
      "    (bn2): Identity()\n",
      "    (relu2): Identity()\n",
      "    (pool2): MaxPool2d(kernel_size=2, stride=2, padding=0, dilation=1, ceil_mode=False)\n",
      "    (conv3): QuantizedConvReLU2d(192, 384, kernel_size=(3, 3), stride=(1, 1), scale=0.03125, zero_point=128, padding=(1, 1))\n",
      "    (bn3): Identity()\n",
      "    (relu3): Identity()\n",
      "    (conv4): QuantizedConvReLU2d(384, 256, kernel_size=(3, 3), stride=(1, 1), scale=0.03125, zero_point=128, padding=(1, 1))\n",
      "    (bn4): Identity()\n",
      "    (relu4): Identity()\n",
      "    (conv5): QuantizedConvReLU2d(256, 256, kernel_size=(3, 3), stride=(1, 1), scale=0.03125, zero_point=128, padding=(1, 1))\n",
      "    (bn5): Identity()\n",
      "    (relu5): Identity()\n",
      "    (pool5): MaxPool2d(kernel_size=2, stride=2, padding=0, dilation=1, ceil_mode=False)\n",
      "    (fc6): QuantizedLinear(in_features=4096, out_features=256, scale=0.125, zero_point=128, qscheme=torch.per_tensor_affine)\n",
      "    (fc7): QuantizedLinear(in_features=256, out_features=128, scale=0.125, zero_point=128, qscheme=torch.per_tensor_affine)\n",
      "    (fc8): QuantizedLinear(in_features=128, out_features=10, scale=0.5, zero_point=128, qscheme=torch.per_tensor_affine)\n",
      "    (relu): ReLU(inplace=True)\n",
      "    (dropout): QuantizedDropout(p=0.4, inplace=False)\n",
      "  )\n",
      ")\n"
     ]
    },
    {
     "name": "stderr",
     "output_type": "stream",
     "text": [
      "C:\\Users\\bend0\\AppData\\Local\\Temp\\ipykernel_12312\\3816497647.py:152: FutureWarning: You are using `torch.load` with `weights_only=False` (the current default value), which uses the default pickle module implicitly. It is possible to construct malicious pickle data which will execute arbitrary code during unpickling (See https://github.com/pytorch/pytorch/blob/main/SECURITY.md#untrusted-models for more details). In a future release, the default value for `weights_only` will be flipped to `True`. This limits the functions that could be executed during unpickling. Arbitrary objects will no longer be allowed to be loaded via this mode unless they are explicitly allowlisted by the user via `torch.serialization.add_safe_globals`. We recommend you start setting `weights_only=True` for any use case where you don't have full control of the loaded file. Please open an issue on GitHub for any issues related to this experimental feature.\n",
      "  model.load_state_dict(torch.load(filename, map_location=device))\n"
     ]
    },
    {
     "data": {
      "application/vnd.jupyter.widget-view+json": {
       "model_id": "93c50f0d96a64fb7be0fa3a26cc2f6b1",
       "version_major": 2,
       "version_minor": 0
      },
      "text/plain": [
       "Evaluating:   0%|          | 0/10 [00:00<?, ?it/s]"
      ]
     },
     "metadata": {},
     "output_type": "display_data"
    },
    {
     "name": "stdout",
     "output_type": "stream",
     "text": [
      "Test: loss=0.3592, accuracy=0.8953, size=3.350946MB\n"
     ]
    }
   ],
   "source": [
    "import os\n",
    "from torch import nn\n",
    "import torch.ao.quantization as tq\n",
    "\n",
    "reset_seed(0)\n",
    "\n",
    "\n",
    "def main():\n",
    "    dataset = 'cifar10'\n",
    "    backend = 'power2'\n",
    "    model_path = './weights/cifar10/vgg-power2.pt'\n",
    "    \n",
    "\n",
    "    *_, test_loader = DATALOADERS[dataset](batch_size=1000)\n",
    "    in_channels, in_size = test_loader.dataset[0][0].shape[:2]\n",
    "    \n",
    "    if backend:\n",
    "        qconfig = CustomQConfig[backend.upper()].value\n",
    "        fuse_modules = True\n",
    "    else:\n",
    "        qconfig = None\n",
    "        fuse_modules = False\n",
    "        \n",
    "    model = load_model(VGG(in_channels, in_size), model_path,\n",
    "                       qconfig=qconfig, fuse_modules=fuse_modules)\n",
    "    print(model)\n",
    "\n",
    "\n",
    "\n",
    "    device = \"cpu\" if backend else DEFAULT_DEVICE\n",
    "    criterion = nn.CrossEntropyLoss()\n",
    "    test_loss, test_accuracy, _ = evaluate(\n",
    "        model.to(device), test_loader, criterion, device=device\n",
    "    )\n",
    "    print(\n",
    "        f\"Test: loss={test_loss:.4f}, accuracy={test_accuracy:.4f}, size={os.path.getsize(model_path) / 1e6}MB\"\n",
    "    )\n",
    "\n",
    "torch.Size([1000, 3, 32, 32])\n",
    "\n",
    "if __name__ == \"__main__\":\n",
    "    main()"
   ]
  }
 ],
 "metadata": {
  "kernelspec": {
   "display_name": "Python 3",
   "language": "python",
   "name": "python3"
  },
  "language_info": {
   "codemirror_mode": {
    "name": "ipython",
    "version": 3
   },
   "file_extension": ".py",
   "mimetype": "text/x-python",
   "name": "python",
   "nbconvert_exporter": "python",
   "pygments_lexer": "ipython3",
   "version": "3.12.4"
  }
 },
 "nbformat": 4,
 "nbformat_minor": 5
}
