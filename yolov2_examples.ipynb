{
  "cells": [
    {
      "cell_type": "code",
      "execution_count": null,
      "metadata": {
        "id": "2E5wsEF3tOfK"
      },
      "outputs": [],
      "source": [
        "import cfg\n",
        "from utils import predict_ptq"
      ]
    },
    {
      "cell_type": "code",
      "execution_count": null,
      "metadata": {},
      "outputs": [],
      "source": [
        "from model import YoloV2Net\n",
        "import torch\n",
        "model = YoloV2Net(num_classes=80)\n",
        "model.load_state_dict(torch.load(\"yolov2_pot2_weightonly.pth\"))"
      ]
    },
    {
      "cell_type": "code",
      "execution_count": null,
      "metadata": {},
      "outputs": [
        {
          "ename": "",
          "evalue": "",
          "output_type": "error",
          "traceback": [
            "\u001b[1;31mThe Kernel crashed while executing code in the current cell or a previous cell. \n",
            "\u001b[1;31mPlease review the code in the cell(s) to identify a possible cause of the failure. \n",
            "\u001b[1;31mClick <a href='https://aka.ms/vscodeJupyterKernelCrash'>here</a> for more info. \n",
            "\u001b[1;31mView Jupyter <a href='command:jupyter.viewOutput'>log</a> for further details."
          ]
        }
      ],
      "source": [
        "predict_ptq(\n",
        "    model_path=\"./yolov2_pot2_weightonly.pth\",\n",
        "    conf_thresh=0.4,\n",
        "    nms_thresh=0.4,\n",
        "    img_path='images/Trucks-2.jpg',\n",
        "    class_names=cfg.CLASS_NAMES,\n",
        "    device=cfg.DEVICE,\n",
        "    save_to='preds/Trucks-2.jpg'\n",
        "    )"
      ]
    },
    {
      "cell_type": "code",
      "execution_count": null,
      "metadata": {},
      "outputs": [],
      "source": [
        "predict_cv2(\n",
        "    model=model,\n",
        "    conf_thresh=0.4,\n",
        "    nms_thresh=0.4,\n",
        "    img_path='images/dog.jpg',\n",
        "    class_names=cfg.CLASS_NAMES,\n",
        "    device=cfg.DEVICE,\n",
        "    save_to='preds/dogcv2.jpg'\n",
        "    )"
      ]
    },
    {
      "cell_type": "code",
      "execution_count": null,
      "metadata": {},
      "outputs": [],
      "source": [
        "predict(\n",
        "    model=cfg.MODEL,\n",
        "    conf_thresh=0.4,\n",
        "    nms_thresh=0.4,\n",
        "    img_path='images/person.jpg',\n",
        "    class_names=cfg.CLASS_NAMES,\n",
        "    device=cfg.DEVICE,\n",
        "    save_to='preds/person.jpg'\n",
        "    )"
      ]
    },
    {
      "cell_type": "code",
      "execution_count": null,
      "metadata": {},
      "outputs": [],
      "source": [
        "predict(\n",
        "    model=cfg.MODEL,\n",
        "    conf_thresh=0.4,\n",
        "    nms_thresh=0.4,\n",
        "    img_path='images/horses.jpg',\n",
        "    class_names=cfg.CLASS_NAMES,\n",
        "    device=cfg.DEVICE,\n",
        "    save_to='preds/horses.jpg'\n",
        "    )"
      ]
    },
    {
      "cell_type": "code",
      "execution_count": null,
      "metadata": {},
      "outputs": [],
      "source": [
        "predict(\n",
        "    model=cfg.MODEL,\n",
        "    conf_thresh=0.4,\n",
        "    nms_thresh=0.4,\n",
        "    img_path='images/giraffe.jpg',\n",
        "    class_names=cfg.CLASS_NAMES,\n",
        "    device=cfg.DEVICE,\n",
        "    save_to='preds/giraffe.jpg'\n",
        "    )"
      ]
    }
  ],
  "metadata": {
    "accelerator": "GPU",
    "colab": {
      "collapsed_sections": [],
      "name": "yolov2.torch.ipynb",
      "provenance": []
    },
    "kernelspec": {
      "display_name": "Python 3",
      "name": "python3"
    },
    "language_info": {
      "codemirror_mode": {
        "name": "ipython",
        "version": 3
      },
      "file_extension": ".py",
      "mimetype": "text/x-python",
      "name": "python",
      "nbconvert_exporter": "python",
      "pygments_lexer": "ipython3",
      "version": "3.12.4"
    }
  },
  "nbformat": 4,
  "nbformat_minor": 0
}
